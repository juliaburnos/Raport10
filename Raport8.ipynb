{
  "nbformat": 4,
  "nbformat_minor": 0,
  "metadata": {
    "colab": {
      "provenance": [],
      "authorship_tag": "ABX9TyMKWhRotjxQeP7oDI4NliEh",
      "include_colab_link": true
    },
    "kernelspec": {
      "name": "python3",
      "display_name": "Python 3"
    },
    "language_info": {
      "name": "python"
    }
  },
  "cells": [
    {
      "cell_type": "markdown",
      "metadata": {
        "id": "view-in-github",
        "colab_type": "text"
      },
      "source": [
        "<a href=\"https://colab.research.google.com/github/juliaburnos/Raport10/blob/main/Raport8.ipynb\" target=\"_parent\"><img src=\"https://colab.research.google.com/assets/colab-badge.svg\" alt=\"Open In Colab\"/></a>"
      ]
    },
    {
      "cell_type": "code",
      "execution_count": null,
      "metadata": {
        "id": "1uVsBaG2hX8s"
      },

!wget https://raw.githubusercontent.com/DrMichalWojcik/Raport10/refs/heads/main/googleplaystore.csv
!wget https://dq-content.s3.amazonaws.com/350/AppleStore.csv -O apple_wget.csv
      "outputs": [],
      "source": []
    }
  ]
}
